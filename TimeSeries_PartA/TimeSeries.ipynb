{
 "cells": [
  {
   "cell_type": "markdown",
   "metadata": {},
   "source": [
    "# Exploratory Data Analysis"
   ]
  },
  {
   "cell_type": "code",
   "execution_count": 46,
   "metadata": {},
   "outputs": [
    {
     "name": "stdout",
     "output_type": "stream",
     "text": [
      "<class 'pandas.core.frame.DataFrame'>\n",
      "DatetimeIndex: 1312 entries, 2016-03-15 to 2017-05-02\n",
      "Data columns (total 6 columns):\n",
      " #   Column      Non-Null Count  Dtype  \n",
      "---  ------      --------------  -----  \n",
      " 0   T           1312 non-null   float64\n",
      " 1   RH          1312 non-null   float64\n",
      " 2   Gas         1312 non-null   object \n",
      " 3   Value       1312 non-null   float64\n",
      " 4   Unnamed: 5  0 non-null      float64\n",
      " 5   Unnamed: 6  0 non-null      float64\n",
      "dtypes: float64(5), object(1)\n",
      "memory usage: 71.8+ KB\n"
     ]
    }
   ],
   "source": [
    "import pandas as pd \n",
    "import seaborn as sns\n",
    "import matplotlib.pyplot as plt\n",
    "airtrain = pd.read_csv('train.csv',parse_dates=['Date'],index_col='Date')\n",
    "airtrain.info()"
   ]
  },
  {
   "cell_type": "code",
   "execution_count": 47,
   "metadata": {},
   "outputs": [
    {
     "data": {
      "text/html": [
       "<div>\n",
       "<style scoped>\n",
       "    .dataframe tbody tr th:only-of-type {\n",
       "        vertical-align: middle;\n",
       "    }\n",
       "\n",
       "    .dataframe tbody tr th {\n",
       "        vertical-align: top;\n",
       "    }\n",
       "\n",
       "    .dataframe thead th {\n",
       "        text-align: right;\n",
       "    }\n",
       "</style>\n",
       "<table border=\"1\" class=\"dataframe\">\n",
       "  <thead>\n",
       "    <tr style=\"text-align: right;\">\n",
       "      <th></th>\n",
       "      <th>T</th>\n",
       "      <th>RH</th>\n",
       "      <th>Gas</th>\n",
       "      <th>Value</th>\n",
       "    </tr>\n",
       "    <tr>\n",
       "      <th>Date</th>\n",
       "      <th></th>\n",
       "      <th></th>\n",
       "      <th></th>\n",
       "      <th></th>\n",
       "    </tr>\n",
       "  </thead>\n",
       "  <tbody>\n",
       "    <tr>\n",
       "      <th>2016-12-31</th>\n",
       "      <td>12.045833</td>\n",
       "      <td>74.793750</td>\n",
       "      <td>HC</td>\n",
       "      <td>578.966667</td>\n",
       "    </tr>\n",
       "    <tr>\n",
       "      <th>2016-12-11</th>\n",
       "      <td>15.880208</td>\n",
       "      <td>45.860069</td>\n",
       "      <td>O3</td>\n",
       "      <td>538.355556</td>\n",
       "    </tr>\n",
       "    <tr>\n",
       "      <th>2016-06-20</th>\n",
       "      <td>26.586458</td>\n",
       "      <td>36.064583</td>\n",
       "      <td>CO</td>\n",
       "      <td>799.633333</td>\n",
       "    </tr>\n",
       "    <tr>\n",
       "      <th>2016-06-21</th>\n",
       "      <td>25.944097</td>\n",
       "      <td>41.977083</td>\n",
       "      <td>NO2</td>\n",
       "      <td>657.955556</td>\n",
       "    </tr>\n",
       "    <tr>\n",
       "      <th>2016-11-19</th>\n",
       "      <td>10.352083</td>\n",
       "      <td>44.307292</td>\n",
       "      <td>NO2</td>\n",
       "      <td>1342.950000</td>\n",
       "    </tr>\n",
       "  </tbody>\n",
       "</table>\n",
       "</div>"
      ],
      "text/plain": [
       "                    T         RH  Gas        Value\n",
       "Date                                              \n",
       "2016-12-31  12.045833  74.793750   HC   578.966667\n",
       "2016-12-11  15.880208  45.860069   O3   538.355556\n",
       "2016-06-20  26.586458  36.064583   CO   799.633333\n",
       "2016-06-21  25.944097  41.977083  NO2   657.955556\n",
       "2016-11-19  10.352083  44.307292  NO2  1342.950000"
      ]
     },
     "execution_count": 47,
     "metadata": {},
     "output_type": "execute_result"
    }
   ],
   "source": [
    "# show 5 random rows of dataframe \n",
    "# drop column index 5 and 6 dataframe\n",
    "airtrain.drop(airtrain.columns[4:6],axis=1,inplace=True)\n",
    "\n",
    "airtrain.sample(5)"
   ]
  },
  {
   "cell_type": "markdown",
   "metadata": {},
   "source": [
    "### Looks like there are various types of Gases "
   ]
  },
  {
   "cell_type": "code",
   "execution_count": 48,
   "metadata": {},
   "outputs": [],
   "source": [
    "# one hot label encode Gas column \n",
    "# airtrain = pd.get_dummies(airtrain,columns=['Gas'])\n",
    "# airtrain "
   ]
  },
  {
   "cell_type": "code",
   "execution_count": 49,
   "metadata": {},
   "outputs": [
    {
     "data": {
      "image/png": "[encoded data removed]",
      "text/plain": [
       "<Figure size 432x288 with 1 Axes>"
      ]
     },
     "metadata": {
      "needs_background": "light"
     },
     "output_type": "display_data"
    }
   ],
   "source": [
    "airtrain.plot()\n",
    "plt.show()"
   ]
  }
 ],
 "metadata": {
  "kernelspec": {
   "display_name": "Python 3.10.0 64-bit",
   "language": "python",
   "name": "python3"
  },
  "language_info": {
   "codemirror_mode": {
    "name": "ipython",
    "version": 3
   },
   "file_extension": ".py",
   "mimetype": "text/x-python",
   "name": "python",
   "nbconvert_exporter": "python",
   "pygments_lexer": "ipython3",
   "version": "3.10.0"
  },
  "orig_nbformat": 4,
  "vscode": {
   "interpreter": {
    "hash": "146e877987a5ca10c5ba40ec3e7a25002bcba56c71dc1c36e6a7a19a2012e1b9"
   }
  }
 },
 "nbformat": 4,
 "nbformat_minor": 2
}
