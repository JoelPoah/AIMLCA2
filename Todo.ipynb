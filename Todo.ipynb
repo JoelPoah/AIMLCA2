{
 "cells": [
  {
   "cell_type": "code",
   "execution_count": null,
   "metadata": {},
   "outputs": [],
   "source": [
    "# Create dataframe prices here\n",
    "prices = pd.DataFrame()\n",
    "\n",
    "# Select data for each year and concatenate with prices here \n",
    "for year in ['2013', '2014', '2015']:\n",
    "    price_per_year = yahoo.loc[year, ['price']].reset_index(drop=True)\n",
    "    price_per_year.rename(columns={'price': year}, inplace=True)\n",
    "    prices = pd.concat([prices, price_per_year], axis=1)\n",
    "\n",
    "# Plot prices\n",
    "prices.plot()\n",
    "plt.show()\n",
    "print(price_per_year)\n",
    "\n",
    "## this code here extracts each year and plots how the data looks against each other\n",
    "## perhaps I can do by seasons "
   ]
  },
  {
   "cell_type": "markdown",
   "metadata": {},
   "source": [
    "https://people.duke.edu/~rnau/411arim2.htm "
   ]
  },
  {
   "cell_type": "markdown",
   "metadata": {},
   "source": [
    "https://machinelearningmastery.com/arima-for-time-series-forecasting-with-python/#:~:text=Autoregressive%20Integrated%20Moving%20Average%20Model,making%20skillful%20time%20series%20forecasts."
   ]
  },
  {
   "cell_type": "markdown",
   "metadata": {},
   "source": [
    "https://www.machinelearningplus.com/time-series/arima-model-time-series-forecasting-python/"
   ]
  },
  {
   "cell_type": "code",
   "execution_count": null,
   "metadata": {},
   "outputs": [],
   "source": [
    "# lags = range(1,3)\n",
    "# lol = range(1,3)\n",
    "# for i,j in product(lags,lol):\n",
    "#     print(i,j)\n",
    "\n",
    "lags = range(0,4)\n",
    "\n",
    "for lag in lags:\n",
    "    print(lag)"
   ]
  }
 ],
 "metadata": {
  "kernelspec": {
   "display_name": "Python 3.10.6 64-bit (windows store)",
   "language": "python",
   "name": "python3"
  },
  "language_info": {
   "name": "python",
   "version": "3.10.6"
  },
  "orig_nbformat": 4,
  "vscode": {
   "interpreter": {
    "hash": "58dbfdb34cf82127b32c5737e6183911655ff227e5c11e8f5e4b25048ae98ef2"
   }
  }
 },
 "nbformat": 4,
 "nbformat_minor": 2
}
